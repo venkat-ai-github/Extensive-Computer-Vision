{
  "nbformat": 4,
  "nbformat_minor": 0,
  "metadata": {
    "colab": {
      "name": "assignment_2_5_v3.ipynb",
      "provenance": [],
      "collapsed_sections": [],
      "authorship_tag": "ABX9TyMkRy6dIJCSa0C34kqEB6d9",
      "include_colab_link": true
    },
    "kernelspec": {
      "name": "python3",
      "display_name": "Python 3"
    },
    "language_info": {
      "name": "python"
    },
    "accelerator": "GPU",
    "widgets": {
      "application/vnd.jupyter.widget-state+json": {
        "722f7585b6114648ab0d4e1a5734f4d3": {
          "model_module": "@jupyter-widgets/controls",
          "model_name": "HBoxModel",
          "model_module_version": "1.5.0",
          "state": {
            "_view_name": "HBoxView",
            "_dom_classes": [],
            "_model_name": "HBoxModel",
            "_view_module": "@jupyter-widgets/controls",
            "_model_module_version": "1.5.0",
            "_view_count": null,
            "_view_module_version": "1.5.0",
            "box_style": "",
            "layout": "IPY_MODEL_fdf07187052f43f4ade7ee96e14d70f2",
            "_model_module": "@jupyter-widgets/controls",
            "children": [
              "IPY_MODEL_671c4c00bc794587ac3f477b61e731a1",
              "IPY_MODEL_35bbf98592cb46dab3334260d67634c2",
              "IPY_MODEL_5a099ebcfb45473983cdcf249e563e8c"
            ]
          }
        },
        "fdf07187052f43f4ade7ee96e14d70f2": {
          "model_module": "@jupyter-widgets/base",
          "model_name": "LayoutModel",
          "model_module_version": "1.2.0",
          "state": {
            "_view_name": "LayoutView",
            "grid_template_rows": null,
            "right": null,
            "justify_content": null,
            "_view_module": "@jupyter-widgets/base",
            "overflow": null,
            "_model_module_version": "1.2.0",
            "_view_count": null,
            "flex_flow": null,
            "width": null,
            "min_width": null,
            "border": null,
            "align_items": null,
            "bottom": null,
            "_model_module": "@jupyter-widgets/base",
            "top": null,
            "grid_column": null,
            "overflow_y": null,
            "overflow_x": null,
            "grid_auto_flow": null,
            "grid_area": null,
            "grid_template_columns": null,
            "flex": null,
            "_model_name": "LayoutModel",
            "justify_items": null,
            "grid_row": null,
            "max_height": null,
            "align_content": null,
            "visibility": null,
            "align_self": null,
            "height": null,
            "min_height": null,
            "padding": null,
            "grid_auto_rows": null,
            "grid_gap": null,
            "max_width": null,
            "order": null,
            "_view_module_version": "1.2.0",
            "grid_template_areas": null,
            "object_position": null,
            "object_fit": null,
            "grid_auto_columns": null,
            "margin": null,
            "display": null,
            "left": null
          }
        },
        "671c4c00bc794587ac3f477b61e731a1": {
          "model_module": "@jupyter-widgets/controls",
          "model_name": "HTMLModel",
          "model_module_version": "1.5.0",
          "state": {
            "_view_name": "HTMLView",
            "style": "IPY_MODEL_28a65546199445c6baeed0a106cd31b0",
            "_dom_classes": [],
            "description": "",
            "_model_name": "HTMLModel",
            "placeholder": "​",
            "_view_module": "@jupyter-widgets/controls",
            "_model_module_version": "1.5.0",
            "value": "",
            "_view_count": null,
            "_view_module_version": "1.5.0",
            "description_tooltip": null,
            "_model_module": "@jupyter-widgets/controls",
            "layout": "IPY_MODEL_156dbb08d22b4e99b35277ed44393e9d"
          }
        },
        "35bbf98592cb46dab3334260d67634c2": {
          "model_module": "@jupyter-widgets/controls",
          "model_name": "FloatProgressModel",
          "model_module_version": "1.5.0",
          "state": {
            "_view_name": "ProgressView",
            "style": "IPY_MODEL_d7c00c4292124231b020b3c7c80e8d57",
            "_dom_classes": [],
            "description": "",
            "_model_name": "FloatProgressModel",
            "bar_style": "success",
            "max": 9912422,
            "_view_module": "@jupyter-widgets/controls",
            "_model_module_version": "1.5.0",
            "value": 9912422,
            "_view_count": null,
            "_view_module_version": "1.5.0",
            "orientation": "horizontal",
            "min": 0,
            "description_tooltip": null,
            "_model_module": "@jupyter-widgets/controls",
            "layout": "IPY_MODEL_098ef57e5dea40d89815f682034f9bc7"
          }
        },
        "5a099ebcfb45473983cdcf249e563e8c": {
          "model_module": "@jupyter-widgets/controls",
          "model_name": "HTMLModel",
          "model_module_version": "1.5.0",
          "state": {
            "_view_name": "HTMLView",
            "style": "IPY_MODEL_f18e1052f2894dbeac6a3cea66aeb824",
            "_dom_classes": [],
            "description": "",
            "_model_name": "HTMLModel",
            "placeholder": "​",
            "_view_module": "@jupyter-widgets/controls",
            "_model_module_version": "1.5.0",
            "value": " 9913344/? [00:00&lt;00:00, 44127690.06it/s]",
            "_view_count": null,
            "_view_module_version": "1.5.0",
            "description_tooltip": null,
            "_model_module": "@jupyter-widgets/controls",
            "layout": "IPY_MODEL_95e2ff5d2b454de7bfcc4ce4614d5e0b"
          }
        },
        "28a65546199445c6baeed0a106cd31b0": {
          "model_module": "@jupyter-widgets/controls",
          "model_name": "DescriptionStyleModel",
          "model_module_version": "1.5.0",
          "state": {
            "_view_name": "StyleView",
            "_model_name": "DescriptionStyleModel",
            "description_width": "",
            "_view_module": "@jupyter-widgets/base",
            "_model_module_version": "1.5.0",
            "_view_count": null,
            "_view_module_version": "1.2.0",
            "_model_module": "@jupyter-widgets/controls"
          }
        },
        "156dbb08d22b4e99b35277ed44393e9d": {
          "model_module": "@jupyter-widgets/base",
          "model_name": "LayoutModel",
          "model_module_version": "1.2.0",
          "state": {
            "_view_name": "LayoutView",
            "grid_template_rows": null,
            "right": null,
            "justify_content": null,
            "_view_module": "@jupyter-widgets/base",
            "overflow": null,
            "_model_module_version": "1.2.0",
            "_view_count": null,
            "flex_flow": null,
            "width": null,
            "min_width": null,
            "border": null,
            "align_items": null,
            "bottom": null,
            "_model_module": "@jupyter-widgets/base",
            "top": null,
            "grid_column": null,
            "overflow_y": null,
            "overflow_x": null,
            "grid_auto_flow": null,
            "grid_area": null,
            "grid_template_columns": null,
            "flex": null,
            "_model_name": "LayoutModel",
            "justify_items": null,
            "grid_row": null,
            "max_height": null,
            "align_content": null,
            "visibility": null,
            "align_self": null,
            "height": null,
            "min_height": null,
            "padding": null,
            "grid_auto_rows": null,
            "grid_gap": null,
            "max_width": null,
            "order": null,
            "_view_module_version": "1.2.0",
            "grid_template_areas": null,
            "object_position": null,
            "object_fit": null,
            "grid_auto_columns": null,
            "margin": null,
            "display": null,
            "left": null
          }
        },
        "d7c00c4292124231b020b3c7c80e8d57": {
          "model_module": "@jupyter-widgets/controls",
          "model_name": "ProgressStyleModel",
          "model_module_version": "1.5.0",
          "state": {
            "_view_name": "StyleView",
            "_model_name": "ProgressStyleModel",
            "description_width": "",
            "_view_module": "@jupyter-widgets/base",
            "_model_module_version": "1.5.0",
            "_view_count": null,
            "_view_module_version": "1.2.0",
            "bar_color": null,
            "_model_module": "@jupyter-widgets/controls"
          }
        },
        "098ef57e5dea40d89815f682034f9bc7": {
          "model_module": "@jupyter-widgets/base",
          "model_name": "LayoutModel",
          "model_module_version": "1.2.0",
          "state": {
            "_view_name": "LayoutView",
            "grid_template_rows": null,
            "right": null,
            "justify_content": null,
            "_view_module": "@jupyter-widgets/base",
            "overflow": null,
            "_model_module_version": "1.2.0",
            "_view_count": null,
            "flex_flow": null,
            "width": null,
            "min_width": null,
            "border": null,
            "align_items": null,
            "bottom": null,
            "_model_module": "@jupyter-widgets/base",
            "top": null,
            "grid_column": null,
            "overflow_y": null,
            "overflow_x": null,
            "grid_auto_flow": null,
            "grid_area": null,
            "grid_template_columns": null,
            "flex": null,
            "_model_name": "LayoutModel",
            "justify_items": null,
            "grid_row": null,
            "max_height": null,
            "align_content": null,
            "visibility": null,
            "align_self": null,
            "height": null,
            "min_height": null,
            "padding": null,
            "grid_auto_rows": null,
            "grid_gap": null,
            "max_width": null,
            "order": null,
            "_view_module_version": "1.2.0",
            "grid_template_areas": null,
            "object_position": null,
            "object_fit": null,
            "grid_auto_columns": null,
            "margin": null,
            "display": null,
            "left": null
          }
        },
        "f18e1052f2894dbeac6a3cea66aeb824": {
          "model_module": "@jupyter-widgets/controls",
          "model_name": "DescriptionStyleModel",
          "model_module_version": "1.5.0",
          "state": {
            "_view_name": "StyleView",
            "_model_name": "DescriptionStyleModel",
            "description_width": "",
            "_view_module": "@jupyter-widgets/base",
            "_model_module_version": "1.5.0",
            "_view_count": null,
            "_view_module_version": "1.2.0",
            "_model_module": "@jupyter-widgets/controls"
          }
        },
        "95e2ff5d2b454de7bfcc4ce4614d5e0b": {
          "model_module": "@jupyter-widgets/base",
          "model_name": "LayoutModel",
          "model_module_version": "1.2.0",
          "state": {
            "_view_name": "LayoutView",
            "grid_template_rows": null,
            "right": null,
            "justify_content": null,
            "_view_module": "@jupyter-widgets/base",
            "overflow": null,
            "_model_module_version": "1.2.0",
            "_view_count": null,
            "flex_flow": null,
            "width": null,
            "min_width": null,
            "border": null,
            "align_items": null,
            "bottom": null,
            "_model_module": "@jupyter-widgets/base",
            "top": null,
            "grid_column": null,
            "overflow_y": null,
            "overflow_x": null,
            "grid_auto_flow": null,
            "grid_area": null,
            "grid_template_columns": null,
            "flex": null,
            "_model_name": "LayoutModel",
            "justify_items": null,
            "grid_row": null,
            "max_height": null,
            "align_content": null,
            "visibility": null,
            "align_self": null,
            "height": null,
            "min_height": null,
            "padding": null,
            "grid_auto_rows": null,
            "grid_gap": null,
            "max_width": null,
            "order": null,
            "_view_module_version": "1.2.0",
            "grid_template_areas": null,
            "object_position": null,
            "object_fit": null,
            "grid_auto_columns": null,
            "margin": null,
            "display": null,
            "left": null
          }
        },
        "a12d531845fa4a7a8f70515f7e707088": {
          "model_module": "@jupyter-widgets/controls",
          "model_name": "HBoxModel",
          "model_module_version": "1.5.0",
          "state": {
            "_view_name": "HBoxView",
            "_dom_classes": [],
            "_model_name": "HBoxModel",
            "_view_module": "@jupyter-widgets/controls",
            "_model_module_version": "1.5.0",
            "_view_count": null,
            "_view_module_version": "1.5.0",
            "box_style": "",
            "layout": "IPY_MODEL_a4607f7425544a028718317eadfcbf01",
            "_model_module": "@jupyter-widgets/controls",
            "children": [
              "IPY_MODEL_58301ab1577e4b1baa1786dc0ed0223e",
              "IPY_MODEL_f26f69921a3045338601a8a1c9a73e75",
              "IPY_MODEL_59b276ba510343c49323601e98937f36"
            ]
          }
        },
        "a4607f7425544a028718317eadfcbf01": {
          "model_module": "@jupyter-widgets/base",
          "model_name": "LayoutModel",
          "model_module_version": "1.2.0",
          "state": {
            "_view_name": "LayoutView",
            "grid_template_rows": null,
            "right": null,
            "justify_content": null,
            "_view_module": "@jupyter-widgets/base",
            "overflow": null,
            "_model_module_version": "1.2.0",
            "_view_count": null,
            "flex_flow": null,
            "width": null,
            "min_width": null,
            "border": null,
            "align_items": null,
            "bottom": null,
            "_model_module": "@jupyter-widgets/base",
            "top": null,
            "grid_column": null,
            "overflow_y": null,
            "overflow_x": null,
            "grid_auto_flow": null,
            "grid_area": null,
            "grid_template_columns": null,
            "flex": null,
            "_model_name": "LayoutModel",
            "justify_items": null,
            "grid_row": null,
            "max_height": null,
            "align_content": null,
            "visibility": null,
            "align_self": null,
            "height": null,
            "min_height": null,
            "padding": null,
            "grid_auto_rows": null,
            "grid_gap": null,
            "max_width": null,
            "order": null,
            "_view_module_version": "1.2.0",
            "grid_template_areas": null,
            "object_position": null,
            "object_fit": null,
            "grid_auto_columns": null,
            "margin": null,
            "display": null,
            "left": null
          }
        },
        "58301ab1577e4b1baa1786dc0ed0223e": {
          "model_module": "@jupyter-widgets/controls",
          "model_name": "HTMLModel",
          "model_module_version": "1.5.0",
          "state": {
            "_view_name": "HTMLView",
            "style": "IPY_MODEL_6f89a9f527cb4c9585dd00d2c755f7d4",
            "_dom_classes": [],
            "description": "",
            "_model_name": "HTMLModel",
            "placeholder": "​",
            "_view_module": "@jupyter-widgets/controls",
            "_model_module_version": "1.5.0",
            "value": "",
            "_view_count": null,
            "_view_module_version": "1.5.0",
            "description_tooltip": null,
            "_model_module": "@jupyter-widgets/controls",
            "layout": "IPY_MODEL_f5d94a36affd423faf587c15d7c18ee9"
          }
        },
        "f26f69921a3045338601a8a1c9a73e75": {
          "model_module": "@jupyter-widgets/controls",
          "model_name": "FloatProgressModel",
          "model_module_version": "1.5.0",
          "state": {
            "_view_name": "ProgressView",
            "style": "IPY_MODEL_ca2dd6713504402e8299c3e30434ddfd",
            "_dom_classes": [],
            "description": "",
            "_model_name": "FloatProgressModel",
            "bar_style": "success",
            "max": 28881,
            "_view_module": "@jupyter-widgets/controls",
            "_model_module_version": "1.5.0",
            "value": 28881,
            "_view_count": null,
            "_view_module_version": "1.5.0",
            "orientation": "horizontal",
            "min": 0,
            "description_tooltip": null,
            "_model_module": "@jupyter-widgets/controls",
            "layout": "IPY_MODEL_77bf98d38d6049bf874ca0de615170b2"
          }
        },
        "59b276ba510343c49323601e98937f36": {
          "model_module": "@jupyter-widgets/controls",
          "model_name": "HTMLModel",
          "model_module_version": "1.5.0",
          "state": {
            "_view_name": "HTMLView",
            "style": "IPY_MODEL_f55a9e3d83dc47eab2daa492fa127509",
            "_dom_classes": [],
            "description": "",
            "_model_name": "HTMLModel",
            "placeholder": "​",
            "_view_module": "@jupyter-widgets/controls",
            "_model_module_version": "1.5.0",
            "value": " 29696/? [00:00&lt;00:00, 463286.27it/s]",
            "_view_count": null,
            "_view_module_version": "1.5.0",
            "description_tooltip": null,
            "_model_module": "@jupyter-widgets/controls",
            "layout": "IPY_MODEL_e76a73271324434ebbdd9eb26b9b83d0"
          }
        },
        "6f89a9f527cb4c9585dd00d2c755f7d4": {
          "model_module": "@jupyter-widgets/controls",
          "model_name": "DescriptionStyleModel",
          "model_module_version": "1.5.0",
          "state": {
            "_view_name": "StyleView",
            "_model_name": "DescriptionStyleModel",
            "description_width": "",
            "_view_module": "@jupyter-widgets/base",
            "_model_module_version": "1.5.0",
            "_view_count": null,
            "_view_module_version": "1.2.0",
            "_model_module": "@jupyter-widgets/controls"
          }
        },
        "f5d94a36affd423faf587c15d7c18ee9": {
          "model_module": "@jupyter-widgets/base",
          "model_name": "LayoutModel",
          "model_module_version": "1.2.0",
          "state": {
            "_view_name": "LayoutView",
            "grid_template_rows": null,
            "right": null,
            "justify_content": null,
            "_view_module": "@jupyter-widgets/base",
            "overflow": null,
            "_model_module_version": "1.2.0",
            "_view_count": null,
            "flex_flow": null,
            "width": null,
            "min_width": null,
            "border": null,
            "align_items": null,
            "bottom": null,
            "_model_module": "@jupyter-widgets/base",
            "top": null,
            "grid_column": null,
            "overflow_y": null,
            "overflow_x": null,
            "grid_auto_flow": null,
            "grid_area": null,
            "grid_template_columns": null,
            "flex": null,
            "_model_name": "LayoutModel",
            "justify_items": null,
            "grid_row": null,
            "max_height": null,
            "align_content": null,
            "visibility": null,
            "align_self": null,
            "height": null,
            "min_height": null,
            "padding": null,
            "grid_auto_rows": null,
            "grid_gap": null,
            "max_width": null,
            "order": null,
            "_view_module_version": "1.2.0",
            "grid_template_areas": null,
            "object_position": null,
            "object_fit": null,
            "grid_auto_columns": null,
            "margin": null,
            "display": null,
            "left": null
          }
        },
        "ca2dd6713504402e8299c3e30434ddfd": {
          "model_module": "@jupyter-widgets/controls",
          "model_name": "ProgressStyleModel",
          "model_module_version": "1.5.0",
          "state": {
            "_view_name": "StyleView",
            "_model_name": "ProgressStyleModel",
            "description_width": "",
            "_view_module": "@jupyter-widgets/base",
            "_model_module_version": "1.5.0",
            "_view_count": null,
            "_view_module_version": "1.2.0",
            "bar_color": null,
            "_model_module": "@jupyter-widgets/controls"
          }
        },
        "77bf98d38d6049bf874ca0de615170b2": {
          "model_module": "@jupyter-widgets/base",
          "model_name": "LayoutModel",
          "model_module_version": "1.2.0",
          "state": {
            "_view_name": "LayoutView",
            "grid_template_rows": null,
            "right": null,
            "justify_content": null,
            "_view_module": "@jupyter-widgets/base",
            "overflow": null,
            "_model_module_version": "1.2.0",
            "_view_count": null,
            "flex_flow": null,
            "width": null,
            "min_width": null,
            "border": null,
            "align_items": null,
            "bottom": null,
            "_model_module": "@jupyter-widgets/base",
            "top": null,
            "grid_column": null,
            "overflow_y": null,
            "overflow_x": null,
            "grid_auto_flow": null,
            "grid_area": null,
            "grid_template_columns": null,
            "flex": null,
            "_model_name": "LayoutModel",
            "justify_items": null,
            "grid_row": null,
            "max_height": null,
            "align_content": null,
            "visibility": null,
            "align_self": null,
            "height": null,
            "min_height": null,
            "padding": null,
            "grid_auto_rows": null,
            "grid_gap": null,
            "max_width": null,
            "order": null,
            "_view_module_version": "1.2.0",
            "grid_template_areas": null,
            "object_position": null,
            "object_fit": null,
            "grid_auto_columns": null,
            "margin": null,
            "display": null,
            "left": null
          }
        },
        "f55a9e3d83dc47eab2daa492fa127509": {
          "model_module": "@jupyter-widgets/controls",
          "model_name": "DescriptionStyleModel",
          "model_module_version": "1.5.0",
          "state": {
            "_view_name": "StyleView",
            "_model_name": "DescriptionStyleModel",
            "description_width": "",
            "_view_module": "@jupyter-widgets/base",
            "_model_module_version": "1.5.0",
            "_view_count": null,
            "_view_module_version": "1.2.0",
            "_model_module": "@jupyter-widgets/controls"
          }
        },
        "e76a73271324434ebbdd9eb26b9b83d0": {
          "model_module": "@jupyter-widgets/base",
          "model_name": "LayoutModel",
          "model_module_version": "1.2.0",
          "state": {
            "_view_name": "LayoutView",
            "grid_template_rows": null,
            "right": null,
            "justify_content": null,
            "_view_module": "@jupyter-widgets/base",
            "overflow": null,
            "_model_module_version": "1.2.0",
            "_view_count": null,
            "flex_flow": null,
            "width": null,
            "min_width": null,
            "border": null,
            "align_items": null,
            "bottom": null,
            "_model_module": "@jupyter-widgets/base",
            "top": null,
            "grid_column": null,
            "overflow_y": null,
            "overflow_x": null,
            "grid_auto_flow": null,
            "grid_area": null,
            "grid_template_columns": null,
            "flex": null,
            "_model_name": "LayoutModel",
            "justify_items": null,
            "grid_row": null,
            "max_height": null,
            "align_content": null,
            "visibility": null,
            "align_self": null,
            "height": null,
            "min_height": null,
            "padding": null,
            "grid_auto_rows": null,
            "grid_gap": null,
            "max_width": null,
            "order": null,
            "_view_module_version": "1.2.0",
            "grid_template_areas": null,
            "object_position": null,
            "object_fit": null,
            "grid_auto_columns": null,
            "margin": null,
            "display": null,
            "left": null
          }
        },
        "30e2d2d1062e4aaea8f734344c7378db": {
          "model_module": "@jupyter-widgets/controls",
          "model_name": "HBoxModel",
          "model_module_version": "1.5.0",
          "state": {
            "_view_name": "HBoxView",
            "_dom_classes": [],
            "_model_name": "HBoxModel",
            "_view_module": "@jupyter-widgets/controls",
            "_model_module_version": "1.5.0",
            "_view_count": null,
            "_view_module_version": "1.5.0",
            "box_style": "",
            "layout": "IPY_MODEL_ea7635033a1a4de0b104d11ea823752d",
            "_model_module": "@jupyter-widgets/controls",
            "children": [
              "IPY_MODEL_4bef7722800144ba9b22b49e4c028ced",
              "IPY_MODEL_fe421351d4754faa88866be7d008fc4a",
              "IPY_MODEL_55179aab16674b6b8204ba2a6b1e1348"
            ]
          }
        },
        "ea7635033a1a4de0b104d11ea823752d": {
          "model_module": "@jupyter-widgets/base",
          "model_name": "LayoutModel",
          "model_module_version": "1.2.0",
          "state": {
            "_view_name": "LayoutView",
            "grid_template_rows": null,
            "right": null,
            "justify_content": null,
            "_view_module": "@jupyter-widgets/base",
            "overflow": null,
            "_model_module_version": "1.2.0",
            "_view_count": null,
            "flex_flow": null,
            "width": null,
            "min_width": null,
            "border": null,
            "align_items": null,
            "bottom": null,
            "_model_module": "@jupyter-widgets/base",
            "top": null,
            "grid_column": null,
            "overflow_y": null,
            "overflow_x": null,
            "grid_auto_flow": null,
            "grid_area": null,
            "grid_template_columns": null,
            "flex": null,
            "_model_name": "LayoutModel",
            "justify_items": null,
            "grid_row": null,
            "max_height": null,
            "align_content": null,
            "visibility": null,
            "align_self": null,
            "height": null,
            "min_height": null,
            "padding": null,
            "grid_auto_rows": null,
            "grid_gap": null,
            "max_width": null,
            "order": null,
            "_view_module_version": "1.2.0",
            "grid_template_areas": null,
            "object_position": null,
            "object_fit": null,
            "grid_auto_columns": null,
            "margin": null,
            "display": null,
            "left": null
          }
        },
        "4bef7722800144ba9b22b49e4c028ced": {
          "model_module": "@jupyter-widgets/controls",
          "model_name": "HTMLModel",
          "model_module_version": "1.5.0",
          "state": {
            "_view_name": "HTMLView",
            "style": "IPY_MODEL_43ce70e78b514f028d4b350d7a882002",
            "_dom_classes": [],
            "description": "",
            "_model_name": "HTMLModel",
            "placeholder": "​",
            "_view_module": "@jupyter-widgets/controls",
            "_model_module_version": "1.5.0",
            "value": "",
            "_view_count": null,
            "_view_module_version": "1.5.0",
            "description_tooltip": null,
            "_model_module": "@jupyter-widgets/controls",
            "layout": "IPY_MODEL_cae550daf0154e5eafe92971823a3934"
          }
        },
        "fe421351d4754faa88866be7d008fc4a": {
          "model_module": "@jupyter-widgets/controls",
          "model_name": "FloatProgressModel",
          "model_module_version": "1.5.0",
          "state": {
            "_view_name": "ProgressView",
            "style": "IPY_MODEL_59f53b4983954f69a94c55f735e15ba2",
            "_dom_classes": [],
            "description": "",
            "_model_name": "FloatProgressModel",
            "bar_style": "success",
            "max": 1648877,
            "_view_module": "@jupyter-widgets/controls",
            "_model_module_version": "1.5.0",
            "value": 1648877,
            "_view_count": null,
            "_view_module_version": "1.5.0",
            "orientation": "horizontal",
            "min": 0,
            "description_tooltip": null,
            "_model_module": "@jupyter-widgets/controls",
            "layout": "IPY_MODEL_5b3df405ac424db2902588878a822278"
          }
        },
        "55179aab16674b6b8204ba2a6b1e1348": {
          "model_module": "@jupyter-widgets/controls",
          "model_name": "HTMLModel",
          "model_module_version": "1.5.0",
          "state": {
            "_view_name": "HTMLView",
            "style": "IPY_MODEL_eff8c7b6cd3b4d899c824010d4eb7e1a",
            "_dom_classes": [],
            "description": "",
            "_model_name": "HTMLModel",
            "placeholder": "​",
            "_view_module": "@jupyter-widgets/controls",
            "_model_module_version": "1.5.0",
            "value": " 1649664/? [00:00&lt;00:00, 10095061.11it/s]",
            "_view_count": null,
            "_view_module_version": "1.5.0",
            "description_tooltip": null,
            "_model_module": "@jupyter-widgets/controls",
            "layout": "IPY_MODEL_106a0b2af2954887b8f958a070f78a3f"
          }
        },
        "43ce70e78b514f028d4b350d7a882002": {
          "model_module": "@jupyter-widgets/controls",
          "model_name": "DescriptionStyleModel",
          "model_module_version": "1.5.0",
          "state": {
            "_view_name": "StyleView",
            "_model_name": "DescriptionStyleModel",
            "description_width": "",
            "_view_module": "@jupyter-widgets/base",
            "_model_module_version": "1.5.0",
            "_view_count": null,
            "_view_module_version": "1.2.0",
            "_model_module": "@jupyter-widgets/controls"
          }
        },
        "cae550daf0154e5eafe92971823a3934": {
          "model_module": "@jupyter-widgets/base",
          "model_name": "LayoutModel",
          "model_module_version": "1.2.0",
          "state": {
            "_view_name": "LayoutView",
            "grid_template_rows": null,
            "right": null,
            "justify_content": null,
            "_view_module": "@jupyter-widgets/base",
            "overflow": null,
            "_model_module_version": "1.2.0",
            "_view_count": null,
            "flex_flow": null,
            "width": null,
            "min_width": null,
            "border": null,
            "align_items": null,
            "bottom": null,
            "_model_module": "@jupyter-widgets/base",
            "top": null,
            "grid_column": null,
            "overflow_y": null,
            "overflow_x": null,
            "grid_auto_flow": null,
            "grid_area": null,
            "grid_template_columns": null,
            "flex": null,
            "_model_name": "LayoutModel",
            "justify_items": null,
            "grid_row": null,
            "max_height": null,
            "align_content": null,
            "visibility": null,
            "align_self": null,
            "height": null,
            "min_height": null,
            "padding": null,
            "grid_auto_rows": null,
            "grid_gap": null,
            "max_width": null,
            "order": null,
            "_view_module_version": "1.2.0",
            "grid_template_areas": null,
            "object_position": null,
            "object_fit": null,
            "grid_auto_columns": null,
            "margin": null,
            "display": null,
            "left": null
          }
        },
        "59f53b4983954f69a94c55f735e15ba2": {
          "model_module": "@jupyter-widgets/controls",
          "model_name": "ProgressStyleModel",
          "model_module_version": "1.5.0",
          "state": {
            "_view_name": "StyleView",
            "_model_name": "ProgressStyleModel",
            "description_width": "",
            "_view_module": "@jupyter-widgets/base",
            "_model_module_version": "1.5.0",
            "_view_count": null,
            "_view_module_version": "1.2.0",
            "bar_color": null,
            "_model_module": "@jupyter-widgets/controls"
          }
        },
        "5b3df405ac424db2902588878a822278": {
          "model_module": "@jupyter-widgets/base",
          "model_name": "LayoutModel",
          "model_module_version": "1.2.0",
          "state": {
            "_view_name": "LayoutView",
            "grid_template_rows": null,
            "right": null,
            "justify_content": null,
            "_view_module": "@jupyter-widgets/base",
            "overflow": null,
            "_model_module_version": "1.2.0",
            "_view_count": null,
            "flex_flow": null,
            "width": null,
            "min_width": null,
            "border": null,
            "align_items": null,
            "bottom": null,
            "_model_module": "@jupyter-widgets/base",
            "top": null,
            "grid_column": null,
            "overflow_y": null,
            "overflow_x": null,
            "grid_auto_flow": null,
            "grid_area": null,
            "grid_template_columns": null,
            "flex": null,
            "_model_name": "LayoutModel",
            "justify_items": null,
            "grid_row": null,
            "max_height": null,
            "align_content": null,
            "visibility": null,
            "align_self": null,
            "height": null,
            "min_height": null,
            "padding": null,
            "grid_auto_rows": null,
            "grid_gap": null,
            "max_width": null,
            "order": null,
            "_view_module_version": "1.2.0",
            "grid_template_areas": null,
            "object_position": null,
            "object_fit": null,
            "grid_auto_columns": null,
            "margin": null,
            "display": null,
            "left": null
          }
        },
        "eff8c7b6cd3b4d899c824010d4eb7e1a": {
          "model_module": "@jupyter-widgets/controls",
          "model_name": "DescriptionStyleModel",
          "model_module_version": "1.5.0",
          "state": {
            "_view_name": "StyleView",
            "_model_name": "DescriptionStyleModel",
            "description_width": "",
            "_view_module": "@jupyter-widgets/base",
            "_model_module_version": "1.5.0",
            "_view_count": null,
            "_view_module_version": "1.2.0",
            "_model_module": "@jupyter-widgets/controls"
          }
        },
        "106a0b2af2954887b8f958a070f78a3f": {
          "model_module": "@jupyter-widgets/base",
          "model_name": "LayoutModel",
          "model_module_version": "1.2.0",
          "state": {
            "_view_name": "LayoutView",
            "grid_template_rows": null,
            "right": null,
            "justify_content": null,
            "_view_module": "@jupyter-widgets/base",
            "overflow": null,
            "_model_module_version": "1.2.0",
            "_view_count": null,
            "flex_flow": null,
            "width": null,
            "min_width": null,
            "border": null,
            "align_items": null,
            "bottom": null,
            "_model_module": "@jupyter-widgets/base",
            "top": null,
            "grid_column": null,
            "overflow_y": null,
            "overflow_x": null,
            "grid_auto_flow": null,
            "grid_area": null,
            "grid_template_columns": null,
            "flex": null,
            "_model_name": "LayoutModel",
            "justify_items": null,
            "grid_row": null,
            "max_height": null,
            "align_content": null,
            "visibility": null,
            "align_self": null,
            "height": null,
            "min_height": null,
            "padding": null,
            "grid_auto_rows": null,
            "grid_gap": null,
            "max_width": null,
            "order": null,
            "_view_module_version": "1.2.0",
            "grid_template_areas": null,
            "object_position": null,
            "object_fit": null,
            "grid_auto_columns": null,
            "margin": null,
            "display": null,
            "left": null
          }
        },
        "b3443a86c356477391303a4f58854180": {
          "model_module": "@jupyter-widgets/controls",
          "model_name": "HBoxModel",
          "model_module_version": "1.5.0",
          "state": {
            "_view_name": "HBoxView",
            "_dom_classes": [],
            "_model_name": "HBoxModel",
            "_view_module": "@jupyter-widgets/controls",
            "_model_module_version": "1.5.0",
            "_view_count": null,
            "_view_module_version": "1.5.0",
            "box_style": "",
            "layout": "IPY_MODEL_c987191840014dd1bf5244d791279800",
            "_model_module": "@jupyter-widgets/controls",
            "children": [
              "IPY_MODEL_c155d9677fc04f98ac8b0526b102bb81",
              "IPY_MODEL_71f4c52b2ed64c26b8f619ce49373a0f",
              "IPY_MODEL_00a04ab14d094b649eac4f1f08ebfeb5"
            ]
          }
        },
        "c987191840014dd1bf5244d791279800": {
          "model_module": "@jupyter-widgets/base",
          "model_name": "LayoutModel",
          "model_module_version": "1.2.0",
          "state": {
            "_view_name": "LayoutView",
            "grid_template_rows": null,
            "right": null,
            "justify_content": null,
            "_view_module": "@jupyter-widgets/base",
            "overflow": null,
            "_model_module_version": "1.2.0",
            "_view_count": null,
            "flex_flow": null,
            "width": null,
            "min_width": null,
            "border": null,
            "align_items": null,
            "bottom": null,
            "_model_module": "@jupyter-widgets/base",
            "top": null,
            "grid_column": null,
            "overflow_y": null,
            "overflow_x": null,
            "grid_auto_flow": null,
            "grid_area": null,
            "grid_template_columns": null,
            "flex": null,
            "_model_name": "LayoutModel",
            "justify_items": null,
            "grid_row": null,
            "max_height": null,
            "align_content": null,
            "visibility": null,
            "align_self": null,
            "height": null,
            "min_height": null,
            "padding": null,
            "grid_auto_rows": null,
            "grid_gap": null,
            "max_width": null,
            "order": null,
            "_view_module_version": "1.2.0",
            "grid_template_areas": null,
            "object_position": null,
            "object_fit": null,
            "grid_auto_columns": null,
            "margin": null,
            "display": null,
            "left": null
          }
        },
        "c155d9677fc04f98ac8b0526b102bb81": {
          "model_module": "@jupyter-widgets/controls",
          "model_name": "HTMLModel",
          "model_module_version": "1.5.0",
          "state": {
            "_view_name": "HTMLView",
            "style": "IPY_MODEL_9fc57f72e390435395b052d59063f402",
            "_dom_classes": [],
            "description": "",
            "_model_name": "HTMLModel",
            "placeholder": "​",
            "_view_module": "@jupyter-widgets/controls",
            "_model_module_version": "1.5.0",
            "value": "",
            "_view_count": null,
            "_view_module_version": "1.5.0",
            "description_tooltip": null,
            "_model_module": "@jupyter-widgets/controls",
            "layout": "IPY_MODEL_45dcbd8efefd4fcc931017759db5de79"
          }
        },
        "71f4c52b2ed64c26b8f619ce49373a0f": {
          "model_module": "@jupyter-widgets/controls",
          "model_name": "FloatProgressModel",
          "model_module_version": "1.5.0",
          "state": {
            "_view_name": "ProgressView",
            "style": "IPY_MODEL_2880ba5b19944db2a1befa6ab2bc2752",
            "_dom_classes": [],
            "description": "",
            "_model_name": "FloatProgressModel",
            "bar_style": "success",
            "max": 4542,
            "_view_module": "@jupyter-widgets/controls",
            "_model_module_version": "1.5.0",
            "value": 4542,
            "_view_count": null,
            "_view_module_version": "1.5.0",
            "orientation": "horizontal",
            "min": 0,
            "description_tooltip": null,
            "_model_module": "@jupyter-widgets/controls",
            "layout": "IPY_MODEL_0ce7e9f474ea4373ac2a184b10cedd86"
          }
        },
        "00a04ab14d094b649eac4f1f08ebfeb5": {
          "model_module": "@jupyter-widgets/controls",
          "model_name": "HTMLModel",
          "model_module_version": "1.5.0",
          "state": {
            "_view_name": "HTMLView",
            "style": "IPY_MODEL_3b387f75acfa44ac96d553437b5735c6",
            "_dom_classes": [],
            "description": "",
            "_model_name": "HTMLModel",
            "placeholder": "​",
            "_view_module": "@jupyter-widgets/controls",
            "_model_module_version": "1.5.0",
            "value": " 5120/? [00:00&lt;00:00, 141546.29it/s]",
            "_view_count": null,
            "_view_module_version": "1.5.0",
            "description_tooltip": null,
            "_model_module": "@jupyter-widgets/controls",
            "layout": "IPY_MODEL_b1d3edbef1e34ec69dfe45969cabd88d"
          }
        },
        "9fc57f72e390435395b052d59063f402": {
          "model_module": "@jupyter-widgets/controls",
          "model_name": "DescriptionStyleModel",
          "model_module_version": "1.5.0",
          "state": {
            "_view_name": "StyleView",
            "_model_name": "DescriptionStyleModel",
            "description_width": "",
            "_view_module": "@jupyter-widgets/base",
            "_model_module_version": "1.5.0",
            "_view_count": null,
            "_view_module_version": "1.2.0",
            "_model_module": "@jupyter-widgets/controls"
          }
        },
        "45dcbd8efefd4fcc931017759db5de79": {
          "model_module": "@jupyter-widgets/base",
          "model_name": "LayoutModel",
          "model_module_version": "1.2.0",
          "state": {
            "_view_name": "LayoutView",
            "grid_template_rows": null,
            "right": null,
            "justify_content": null,
            "_view_module": "@jupyter-widgets/base",
            "overflow": null,
            "_model_module_version": "1.2.0",
            "_view_count": null,
            "flex_flow": null,
            "width": null,
            "min_width": null,
            "border": null,
            "align_items": null,
            "bottom": null,
            "_model_module": "@jupyter-widgets/base",
            "top": null,
            "grid_column": null,
            "overflow_y": null,
            "overflow_x": null,
            "grid_auto_flow": null,
            "grid_area": null,
            "grid_template_columns": null,
            "flex": null,
            "_model_name": "LayoutModel",
            "justify_items": null,
            "grid_row": null,
            "max_height": null,
            "align_content": null,
            "visibility": null,
            "align_self": null,
            "height": null,
            "min_height": null,
            "padding": null,
            "grid_auto_rows": null,
            "grid_gap": null,
            "max_width": null,
            "order": null,
            "_view_module_version": "1.2.0",
            "grid_template_areas": null,
            "object_position": null,
            "object_fit": null,
            "grid_auto_columns": null,
            "margin": null,
            "display": null,
            "left": null
          }
        },
        "2880ba5b19944db2a1befa6ab2bc2752": {
          "model_module": "@jupyter-widgets/controls",
          "model_name": "ProgressStyleModel",
          "model_module_version": "1.5.0",
          "state": {
            "_view_name": "StyleView",
            "_model_name": "ProgressStyleModel",
            "description_width": "",
            "_view_module": "@jupyter-widgets/base",
            "_model_module_version": "1.5.0",
            "_view_count": null,
            "_view_module_version": "1.2.0",
            "bar_color": null,
            "_model_module": "@jupyter-widgets/controls"
          }
        },
        "0ce7e9f474ea4373ac2a184b10cedd86": {
          "model_module": "@jupyter-widgets/base",
          "model_name": "LayoutModel",
          "model_module_version": "1.2.0",
          "state": {
            "_view_name": "LayoutView",
            "grid_template_rows": null,
            "right": null,
            "justify_content": null,
            "_view_module": "@jupyter-widgets/base",
            "overflow": null,
            "_model_module_version": "1.2.0",
            "_view_count": null,
            "flex_flow": null,
            "width": null,
            "min_width": null,
            "border": null,
            "align_items": null,
            "bottom": null,
            "_model_module": "@jupyter-widgets/base",
            "top": null,
            "grid_column": null,
            "overflow_y": null,
            "overflow_x": null,
            "grid_auto_flow": null,
            "grid_area": null,
            "grid_template_columns": null,
            "flex": null,
            "_model_name": "LayoutModel",
            "justify_items": null,
            "grid_row": null,
            "max_height": null,
            "align_content": null,
            "visibility": null,
            "align_self": null,
            "height": null,
            "min_height": null,
            "padding": null,
            "grid_auto_rows": null,
            "grid_gap": null,
            "max_width": null,
            "order": null,
            "_view_module_version": "1.2.0",
            "grid_template_areas": null,
            "object_position": null,
            "object_fit": null,
            "grid_auto_columns": null,
            "margin": null,
            "display": null,
            "left": null
          }
        },
        "3b387f75acfa44ac96d553437b5735c6": {
          "model_module": "@jupyter-widgets/controls",
          "model_name": "DescriptionStyleModel",
          "model_module_version": "1.5.0",
          "state": {
            "_view_name": "StyleView",
            "_model_name": "DescriptionStyleModel",
            "description_width": "",
            "_view_module": "@jupyter-widgets/base",
            "_model_module_version": "1.5.0",
            "_view_count": null,
            "_view_module_version": "1.2.0",
            "_model_module": "@jupyter-widgets/controls"
          }
        },
        "b1d3edbef1e34ec69dfe45969cabd88d": {
          "model_module": "@jupyter-widgets/base",
          "model_name": "LayoutModel",
          "model_module_version": "1.2.0",
          "state": {
            "_view_name": "LayoutView",
            "grid_template_rows": null,
            "right": null,
            "justify_content": null,
            "_view_module": "@jupyter-widgets/base",
            "overflow": null,
            "_model_module_version": "1.2.0",
            "_view_count": null,
            "flex_flow": null,
            "width": null,
            "min_width": null,
            "border": null,
            "align_items": null,
            "bottom": null,
            "_model_module": "@jupyter-widgets/base",
            "top": null,
            "grid_column": null,
            "overflow_y": null,
            "overflow_x": null,
            "grid_auto_flow": null,
            "grid_area": null,
            "grid_template_columns": null,
            "flex": null,
            "_model_name": "LayoutModel",
            "justify_items": null,
            "grid_row": null,
            "max_height": null,
            "align_content": null,
            "visibility": null,
            "align_self": null,
            "height": null,
            "min_height": null,
            "padding": null,
            "grid_auto_rows": null,
            "grid_gap": null,
            "max_width": null,
            "order": null,
            "_view_module_version": "1.2.0",
            "grid_template_areas": null,
            "object_position": null,
            "object_fit": null,
            "grid_auto_columns": null,
            "margin": null,
            "display": null,
            "left": null
          }
        }
      }
    }
  },
  "cells": [
    {
      "cell_type": "markdown",
      "metadata": {
        "id": "view-in-github",
        "colab_type": "text"
      },
      "source": [
        "<a href=\"https://colab.research.google.com/github/peeyushsinghal/EVA/blob/main/Assignment2-5/assignment_2_5_v3.ipynb\" target=\"_parent\"><img src=\"https://colab.research.google.com/assets/colab-badge.svg\" alt=\"Open In Colab\"/></a>"
      ]
    },
    {
      "cell_type": "markdown",
      "metadata": {
        "id": "AbRlM4mUoqUP"
      },
      "source": [
        "###Importing Libraries"
      ]
    },
    {
      "cell_type": "code",
      "metadata": {
        "id": "Ku8UAkCO6hi0"
      },
      "source": [
        "import torch\n",
        "from torch.utils.data import Dataset # extending Dataset class for custom dataset\n",
        "from torchvision import datasets # downloading MNIST\n",
        "from torchvision.utils import make_grid # for vizualizing dataset loader\n",
        "import torchvision.transforms  # to convert to tensor, normalization etc\n",
        "import matplotlib.pyplot as plt # to plot pictures and check\n",
        "import random # to generate random numbers\n",
        "import torch.optim as optim # optimizer\n",
        "import torch.nn as nn # to create network\n",
        "import torch.nn.functional as F # to use in network to not include params\n",
        "import numpy as np # for image plotting funtions"
      ],
      "execution_count": 1,
      "outputs": []
    },
    {
      "cell_type": "code",
      "metadata": {
        "id": "Ei8K-nlEGKA7"
      },
      "source": [
        "use_cuda = torch.cuda.is_available() # checking GPU\n",
        "device = torch.device(\"cuda\" if use_cuda else \"cpu\") # selecting GPU or CPU as per availability"
      ],
      "execution_count": 2,
      "outputs": []
    },
    {
      "cell_type": "markdown",
      "metadata": {
        "id": "AIyauPRmBccJ"
      },
      "source": [
        "###Dataset and Dataloader\n",
        "\n",
        "- The dataset is based on MNIST: a new dataset class inherited from MNIST is created which not only includes the MNIST image but also a random number between 0 to 9. Further the dataset includes not only the MNIST label but also the sum of the label and the random number (integer).\n",
        "\n",
        "- Dataloaders - both test and train is created based on the new dataset class created "
      ]
    },
    {
      "cell_type": "code",
      "metadata": {
        "id": "dW5StUisRpWQ"
      },
      "source": [
        "class MNISTCombined(datasets.MNIST):\n",
        "  '''\n",
        "  The dataset object MNISTCombined extends MNIST\n",
        "  It would return MNIST Image, random number, MNIST Label and Sum of MNIST Label and Random Number as output\n",
        "  '''\n",
        "  # def __init__(self):\n",
        "  #  no change from super, it is ok not to write this here also\n",
        "\n",
        "  def __getitem__(self,index):\n",
        "    image,label  = super(MNISTCombined,self).__getitem__(index) # this gets super class' get item \n",
        "    random_number = torch.tensor(random.randint(0,9)) # random number between 0 and 9\n",
        "    return (image, random_number,label, label+ random_number) # outputs image, random number, label, sum of label and random number\n",
        "  \n",
        "  # def __len__(self):\n",
        "  # no change from super, it is ok not to write this here also"
      ],
      "execution_count": 3,
      "outputs": []
    },
    {
      "cell_type": "code",
      "metadata": {
        "id": "oZEYsqCK0veM",
        "colab": {
          "base_uri": "https://localhost:8080/",
          "height": 485,
          "referenced_widgets": [
            "722f7585b6114648ab0d4e1a5734f4d3",
            "fdf07187052f43f4ade7ee96e14d70f2",
            "671c4c00bc794587ac3f477b61e731a1",
            "35bbf98592cb46dab3334260d67634c2",
            "5a099ebcfb45473983cdcf249e563e8c",
            "28a65546199445c6baeed0a106cd31b0",
            "156dbb08d22b4e99b35277ed44393e9d",
            "d7c00c4292124231b020b3c7c80e8d57",
            "098ef57e5dea40d89815f682034f9bc7",
            "f18e1052f2894dbeac6a3cea66aeb824",
            "95e2ff5d2b454de7bfcc4ce4614d5e0b",
            "a12d531845fa4a7a8f70515f7e707088",
            "a4607f7425544a028718317eadfcbf01",
            "58301ab1577e4b1baa1786dc0ed0223e",
            "f26f69921a3045338601a8a1c9a73e75",
            "59b276ba510343c49323601e98937f36",
            "6f89a9f527cb4c9585dd00d2c755f7d4",
            "f5d94a36affd423faf587c15d7c18ee9",
            "ca2dd6713504402e8299c3e30434ddfd",
            "77bf98d38d6049bf874ca0de615170b2",
            "f55a9e3d83dc47eab2daa492fa127509",
            "e76a73271324434ebbdd9eb26b9b83d0",
            "30e2d2d1062e4aaea8f734344c7378db",
            "ea7635033a1a4de0b104d11ea823752d",
            "4bef7722800144ba9b22b49e4c028ced",
            "fe421351d4754faa88866be7d008fc4a",
            "55179aab16674b6b8204ba2a6b1e1348",
            "43ce70e78b514f028d4b350d7a882002",
            "cae550daf0154e5eafe92971823a3934",
            "59f53b4983954f69a94c55f735e15ba2",
            "5b3df405ac424db2902588878a822278",
            "eff8c7b6cd3b4d899c824010d4eb7e1a",
            "106a0b2af2954887b8f958a070f78a3f",
            "b3443a86c356477391303a4f58854180",
            "c987191840014dd1bf5244d791279800",
            "c155d9677fc04f98ac8b0526b102bb81",
            "71f4c52b2ed64c26b8f619ce49373a0f",
            "00a04ab14d094b649eac4f1f08ebfeb5",
            "9fc57f72e390435395b052d59063f402",
            "45dcbd8efefd4fcc931017759db5de79",
            "2880ba5b19944db2a1befa6ab2bc2752",
            "0ce7e9f474ea4373ac2a184b10cedd86",
            "3b387f75acfa44ac96d553437b5735c6",
            "b1d3edbef1e34ec69dfe45969cabd88d"
          ]
        },
        "outputId": "1c5bebe3-fd1d-4f55-e20a-7c330d89602e"
      },
      "source": [
        "# creating training and test loaders\n",
        "\n",
        "batch_size_train = 32\n",
        "batch_size_test = 1000 # this can be high as we just need the forward pass here\n",
        "\n",
        "train_loader = torch.utils.data.DataLoader(\n",
        "    MNISTCombined(\n",
        "        root ='./', #arbit directory\n",
        "        train=True, #train\n",
        "        download=True,\n",
        "        transform=torchvision.transforms.Compose([\n",
        "                                       torchvision.transforms.ToTensor(),#changing to tensor\n",
        "                                       torchvision.transforms.Normalize(\n",
        "                                           (0.1307,), (0.3081,))#normalizing\n",
        "                                   ])),\n",
        "                                   batch_size=batch_size_train, \n",
        "                                   shuffle=True# shuffling the dataset\n",
        "                                   )\n",
        "\n",
        "test_loader = torch.utils.data.DataLoader(\n",
        "    MNISTCombined(\n",
        "        root ='./', #arbit directory\n",
        "        train=True, #train\n",
        "        download=True,\n",
        "        transform=torchvision.transforms.Compose([\n",
        "                                       torchvision.transforms.ToTensor(),#changing to tensor\n",
        "                                       torchvision.transforms.Normalize(\n",
        "                                           (0.1307,), (0.3081,))#normalizing\n",
        "                                   ])),\n",
        "                                   batch_size=batch_size_test, \n",
        "                                   shuffle=True# shuffling the dataset\n",
        "                                   )"
      ],
      "execution_count": 4,
      "outputs": [
        {
          "output_type": "stream",
          "name": "stdout",
          "text": [
            "Downloading http://yann.lecun.com/exdb/mnist/train-images-idx3-ubyte.gz\n",
            "Downloading http://yann.lecun.com/exdb/mnist/train-images-idx3-ubyte.gz to ./MNISTCombined/raw/train-images-idx3-ubyte.gz\n"
          ]
        },
        {
          "output_type": "display_data",
          "data": {
            "application/vnd.jupyter.widget-view+json": {
              "model_id": "722f7585b6114648ab0d4e1a5734f4d3",
              "version_minor": 0,
              "version_major": 2
            },
            "text/plain": [
              "  0%|          | 0/9912422 [00:00<?, ?it/s]"
            ]
          },
          "metadata": {}
        },
        {
          "output_type": "stream",
          "name": "stdout",
          "text": [
            "Extracting ./MNISTCombined/raw/train-images-idx3-ubyte.gz to ./MNISTCombined/raw\n",
            "\n",
            "Downloading http://yann.lecun.com/exdb/mnist/train-labels-idx1-ubyte.gz\n",
            "Downloading http://yann.lecun.com/exdb/mnist/train-labels-idx1-ubyte.gz to ./MNISTCombined/raw/train-labels-idx1-ubyte.gz\n"
          ]
        },
        {
          "output_type": "display_data",
          "data": {
            "application/vnd.jupyter.widget-view+json": {
              "model_id": "a12d531845fa4a7a8f70515f7e707088",
              "version_minor": 0,
              "version_major": 2
            },
            "text/plain": [
              "  0%|          | 0/28881 [00:00<?, ?it/s]"
            ]
          },
          "metadata": {}
        },
        {
          "output_type": "stream",
          "name": "stdout",
          "text": [
            "Extracting ./MNISTCombined/raw/train-labels-idx1-ubyte.gz to ./MNISTCombined/raw\n",
            "\n",
            "Downloading http://yann.lecun.com/exdb/mnist/t10k-images-idx3-ubyte.gz\n",
            "Downloading http://yann.lecun.com/exdb/mnist/t10k-images-idx3-ubyte.gz to ./MNISTCombined/raw/t10k-images-idx3-ubyte.gz\n"
          ]
        },
        {
          "output_type": "display_data",
          "data": {
            "application/vnd.jupyter.widget-view+json": {
              "model_id": "30e2d2d1062e4aaea8f734344c7378db",
              "version_minor": 0,
              "version_major": 2
            },
            "text/plain": [
              "  0%|          | 0/1648877 [00:00<?, ?it/s]"
            ]
          },
          "metadata": {}
        },
        {
          "output_type": "stream",
          "name": "stdout",
          "text": [
            "Extracting ./MNISTCombined/raw/t10k-images-idx3-ubyte.gz to ./MNISTCombined/raw\n",
            "\n",
            "Downloading http://yann.lecun.com/exdb/mnist/t10k-labels-idx1-ubyte.gz\n",
            "Downloading http://yann.lecun.com/exdb/mnist/t10k-labels-idx1-ubyte.gz to ./MNISTCombined/raw/t10k-labels-idx1-ubyte.gz\n"
          ]
        },
        {
          "output_type": "display_data",
          "data": {
            "application/vnd.jupyter.widget-view+json": {
              "model_id": "b3443a86c356477391303a4f58854180",
              "version_minor": 0,
              "version_major": 2
            },
            "text/plain": [
              "  0%|          | 0/4542 [00:00<?, ?it/s]"
            ]
          },
          "metadata": {}
        },
        {
          "output_type": "stream",
          "name": "stdout",
          "text": [
            "Extracting ./MNISTCombined/raw/t10k-labels-idx1-ubyte.gz to ./MNISTCombined/raw\n",
            "\n"
          ]
        },
        {
          "output_type": "stream",
          "name": "stderr",
          "text": [
            "/usr/local/lib/python3.7/dist-packages/torchvision/datasets/mnist.py:498: UserWarning: The given NumPy array is not writeable, and PyTorch does not support non-writeable tensors. This means you can write to the underlying (supposedly non-writeable) NumPy array using the tensor. You may want to copy the array to protect its data or make it writeable before converting it to a tensor. This type of warning will be suppressed for the rest of this program. (Triggered internally at  /pytorch/torch/csrc/utils/tensor_numpy.cpp:180.)\n",
            "  return torch.from_numpy(parsed.astype(m[2], copy=False)).view(*s)\n"
          ]
        }
      ]
    },
    {
      "cell_type": "code",
      "metadata": {
        "colab": {
          "base_uri": "https://localhost:8080/",
          "height": 514
        },
        "id": "LTrfgra7yLGi",
        "outputId": "c33b4f6a-8a2a-4adf-8979-ec9a930ee336"
      },
      "source": [
        "# visualizing the data set batch\n",
        "img, number, label, sum_label_number = next(iter(train_loader))\n",
        "grid = make_grid(img, nrow=10)\n",
        "plt.figure(figsize=(15,15))\n",
        "plt.imshow(np.transpose(grid, (1,2,0)))\n",
        "print (f'label:  {label}, \\nrandom number: {number}, \\nsum of label and random number: {sum_label_number}')"
      ],
      "execution_count": 5,
      "outputs": [
        {
          "output_type": "stream",
          "name": "stderr",
          "text": [
            "Clipping input data to the valid range for imshow with RGB data ([0..1] for floats or [0..255] for integers).\n"
          ]
        },
        {
          "output_type": "stream",
          "name": "stdout",
          "text": [
            "label:  tensor([1, 6, 9, 8, 1, 7, 7, 9, 8, 7, 7, 2, 9, 7, 3, 8, 5, 1, 9, 7, 7, 2, 1, 9,\n",
            "        1, 2, 9, 7, 1, 1, 1, 2]), \n",
            "random number: tensor([0, 4, 6, 5, 5, 8, 2, 1, 6, 0, 7, 9, 0, 1, 7, 6, 9, 3, 5, 8, 2, 4, 2, 3,\n",
            "        8, 8, 2, 7, 0, 1, 8, 9]), \n",
            "sum of label and random number: tensor([ 1, 10, 15, 13,  6, 15,  9, 10, 14,  7, 14, 11,  9,  8, 10, 14, 14,  4,\n",
            "        14, 15,  9,  6,  3, 12,  9, 10, 11, 14,  1,  2,  9, 11])\n"
          ]
        },
        {
          "output_type": "display_data",
          "data": {
            "image/png": "[encoded data removed]",
            "text/plain": [
              "<Figure size 1080x1080 with 1 Axes>"
            ]
          },
          "metadata": {
            "needs_background": "light"
          }
        }
      ]
    },
    {
      "cell_type": "code",
      "metadata": {
        "colab": {
          "base_uri": "https://localhost:8080/"
        },
        "id": "_L1LsTxruw6T",
        "outputId": "f52e603a-1c72-435e-c07b-90769a4fd9c0"
      },
      "source": [
        "img, number, label, sum_label_number = next(iter(train_loader))\n",
        "print(img.shape,number.shape,label.shape,sum_label_number.shape)"
      ],
      "execution_count": 6,
      "outputs": [
        {
          "output_type": "stream",
          "name": "stdout",
          "text": [
            "torch.Size([32, 1, 28, 28]) torch.Size([32]) torch.Size([32]) torch.Size([32])\n"
          ]
        }
      ]
    },
    {
      "cell_type": "code",
      "metadata": {
        "colab": {
          "base_uri": "https://localhost:8080/"
        },
        "id": "HuaVdHokrM-I",
        "outputId": "4f33ad6d-106d-4a34-c9e7-047b984fc29a"
      },
      "source": [
        "number_one_hot = F.one_hot(number, num_classes=10) # checking how would one hot encoding would look like, actual encoding is done in NN forward function\n",
        "print (f'number_one_hot\\n{number_one_hot}')"
      ],
      "execution_count": 7,
      "outputs": [
        {
          "output_type": "stream",
          "name": "stdout",
          "text": [
            "number_one_hot\n",
            "tensor([[0, 0, 0, 0, 0, 1, 0, 0, 0, 0],\n",
            "        [0, 0, 0, 0, 0, 0, 0, 0, 1, 0],\n",
            "        [0, 0, 0, 0, 0, 0, 0, 1, 0, 0],\n",
            "        [0, 0, 0, 0, 1, 0, 0, 0, 0, 0],\n",
            "        [0, 0, 0, 0, 1, 0, 0, 0, 0, 0],\n",
            "        [0, 0, 0, 0, 0, 0, 0, 0, 1, 0],\n",
            "        [0, 0, 0, 0, 0, 0, 0, 0, 0, 1],\n",
            "        [1, 0, 0, 0, 0, 0, 0, 0, 0, 0],\n",
            "        [0, 0, 1, 0, 0, 0, 0, 0, 0, 0],\n",
            "        [0, 1, 0, 0, 0, 0, 0, 0, 0, 0],\n",
            "        [0, 1, 0, 0, 0, 0, 0, 0, 0, 0],\n",
            "        [0, 0, 0, 0, 0, 0, 0, 1, 0, 0],\n",
            "        [0, 0, 0, 0, 0, 0, 1, 0, 0, 0],\n",
            "        [0, 0, 0, 0, 0, 1, 0, 0, 0, 0],\n",
            "        [0, 0, 0, 0, 0, 1, 0, 0, 0, 0],\n",
            "        [0, 0, 0, 1, 0, 0, 0, 0, 0, 0],\n",
            "        [0, 1, 0, 0, 0, 0, 0, 0, 0, 0],\n",
            "        [0, 0, 0, 0, 1, 0, 0, 0, 0, 0],\n",
            "        [1, 0, 0, 0, 0, 0, 0, 0, 0, 0],\n",
            "        [0, 0, 0, 0, 1, 0, 0, 0, 0, 0],\n",
            "        [0, 0, 0, 1, 0, 0, 0, 0, 0, 0],\n",
            "        [0, 0, 1, 0, 0, 0, 0, 0, 0, 0],\n",
            "        [0, 0, 0, 0, 1, 0, 0, 0, 0, 0],\n",
            "        [1, 0, 0, 0, 0, 0, 0, 0, 0, 0],\n",
            "        [0, 0, 0, 0, 0, 1, 0, 0, 0, 0],\n",
            "        [0, 0, 0, 0, 1, 0, 0, 0, 0, 0],\n",
            "        [0, 0, 0, 0, 0, 0, 1, 0, 0, 0],\n",
            "        [1, 0, 0, 0, 0, 0, 0, 0, 0, 0],\n",
            "        [0, 0, 0, 0, 0, 0, 0, 1, 0, 0],\n",
            "        [1, 0, 0, 0, 0, 0, 0, 0, 0, 0],\n",
            "        [0, 0, 0, 1, 0, 0, 0, 0, 0, 0],\n",
            "        [0, 1, 0, 0, 0, 0, 0, 0, 0, 0]])\n"
          ]
        }
      ]
    },
    {
      "cell_type": "markdown",
      "metadata": {
        "id": "fT8SRITkifsn"
      },
      "source": [
        "### Network\n",
        "\n",
        "- It uses CNN to understand the image representation\n",
        "- The image representation and one hot encoding of random number is concatenated\n",
        "- Two separate heads are used - one for label prediction (classes 10) and one for sum prediction (classes 19), both taking the conctenated tensor"
      ]
    },
    {
      "cell_type": "code",
      "metadata": {
        "id": "9i8nMQzngvML",
        "colab": {
          "base_uri": "https://localhost:8080/"
        },
        "outputId": "5e057694-3359-4a5d-816c-6235c4f0d454"
      },
      "source": [
        "class Network(nn.Module):\n",
        "  def __init__(self):\n",
        "    super(Network,self).__init__()\n",
        "    \n",
        "    # self.conv1= nn.Conv2d(in_channels=1,out_channels=6,kernel_size=5) # Input- 1x28x28 Output-6x24x24, \n",
        "    # self.conv2= nn.Conv2d(in_channels=6,out_channels=12,kernel_size=5) # Input- 6x24x24 Output-12x20x20\n",
        "\n",
        "    self.conv1= nn.Conv2d(in_channels=1,out_channels=3,kernel_size=3) \n",
        "    self.conv2= nn.Conv2d(in_channels=3,out_channels=6,kernel_size=3) \n",
        "    self.conv3= nn.Conv2d(in_channels=6,out_channels=12,kernel_size=3) \n",
        "    self.conv4= nn.Conv2d(in_channels=12,out_channels=24,kernel_size=3)\n",
        "\n",
        "    # A dense network head for label understanding\n",
        "    self.label_fc1 = nn.Linear(in_features=((24*4*4)+10), out_features=120) # input features to include flattened image and random number on hot encoding\n",
        "    self.label_fc2 = nn.Linear(in_features=120, out_features=60) \n",
        "    self.label_out = nn.Linear(in_features=60, out_features=10) # output would include one hot encoding for image label\n",
        "\n",
        "    # A dense network head for sum of image label and random number understanding\n",
        "    self.sum_fc1 = nn.Linear(in_features=((24*4*4)+10), out_features=120) # input features to include flattened image and random number on hot encoding\n",
        "    self.sum_fc2 = nn.Linear(in_features=120, out_features=60) \n",
        "    self.sum_out = nn.Linear(in_features=60, out_features=19) # output would include one hot encoding for sum of image label and random number\n",
        "\n",
        "  def forward(self,img,random_number):\n",
        "    # The network takes in two inputs - image and random number\n",
        "    x = img\n",
        "    one_hot_random_number= F.one_hot(random_number.long(),num_classes=10) # TODO : .long is used as per stackoverflow, read about this\n",
        "\n",
        "    # conv1 layer\n",
        "    x = F.relu(self.conv1(x)) # Input- 1x28x28 Output-3x26x26\n",
        "\n",
        "    # conv2 layer\n",
        "    x = F.relu(self.conv2(x)) # Input- 3x26x26 Output-6x24x24\n",
        "    x = F.max_pool2d(x,kernel_size=2, stride= 2) # Input- 6x24x24 Output-6x12x12\n",
        "\n",
        "    # conv3 layer\n",
        "    x = F.relu(self.conv3(x)) # Input- 6x12x12 Output-12x10x10\n",
        "\n",
        "    # conv4 layer\n",
        "    x = F.relu(self.conv4(x)) # Input- 12x10x10 Output-24x8x8\n",
        "    x = F.max_pool2d(x,kernel_size=2, stride= 2) # Input- 24x8x8 Output-24x4x4\n",
        "\n",
        "    # reshape\n",
        "    x = x.reshape(-1, 24 * 4 * 4) # representation of image, flattened\n",
        "\n",
        "    # concatenating image representation and one hot random number\n",
        "    x_combined = torch.cat((x,one_hot_random_number),dim=1)\n",
        "\n",
        "    # label fc1 layer\n",
        "    img_label = F.relu(self.label_fc1(x_combined))\n",
        "    # label fc2 layer\n",
        "    img_label = F.relu(self.label_fc2(img_label))\n",
        "    # label fc out layer\n",
        "    img_label = self.label_out(img_label)\n",
        "\n",
        "    # sum fc1 layer\n",
        "    sum_label_number = F.relu(self.sum_fc1(x_combined))\n",
        "    # sum fc2 layer\n",
        "    sum_label_number = F.relu(self.sum_fc2(sum_label_number))\n",
        "    # sum fc out layer\n",
        "    sum_label_number = self.sum_out(sum_label_number)\n",
        "\n",
        "    pred_label_one_hot = F.log_softmax(img_label, dim=1)\n",
        "    pred_sum_label_number_one_hot = F.log_softmax(sum_label_number, dim=1)\n",
        "\n",
        "    return pred_label_one_hot,pred_sum_label_number_one_hot\n",
        "\n",
        "model = Network()\n",
        "print(model)"
      ],
      "execution_count": 8,
      "outputs": [
        {
          "output_type": "stream",
          "name": "stdout",
          "text": [
            "Network(\n",
            "  (conv1): Conv2d(1, 3, kernel_size=(3, 3), stride=(1, 1))\n",
            "  (conv2): Conv2d(3, 6, kernel_size=(3, 3), stride=(1, 1))\n",
            "  (conv3): Conv2d(6, 12, kernel_size=(3, 3), stride=(1, 1))\n",
            "  (conv4): Conv2d(12, 24, kernel_size=(3, 3), stride=(1, 1))\n",
            "  (label_fc1): Linear(in_features=394, out_features=120, bias=True)\n",
            "  (label_fc2): Linear(in_features=120, out_features=60, bias=True)\n",
            "  (label_out): Linear(in_features=60, out_features=10, bias=True)\n",
            "  (sum_fc1): Linear(in_features=394, out_features=120, bias=True)\n",
            "  (sum_fc2): Linear(in_features=120, out_features=60, bias=True)\n",
            "  (sum_out): Linear(in_features=60, out_features=19, bias=True)\n",
            ")\n"
          ]
        }
      ]
    },
    {
      "cell_type": "markdown",
      "metadata": {
        "id": "4zIzbWpADEyK"
      },
      "source": [
        "## Training and Testing"
      ]
    },
    {
      "cell_type": "code",
      "metadata": {
        "id": "dPIf32s724O3"
      },
      "source": [
        "optimizer = optim.Adam(model.parameters(), lr=0.001)\n",
        "loss_func = F.nll_loss #F.cross_entropy # global"
      ],
      "execution_count": 9,
      "outputs": []
    },
    {
      "cell_type": "code",
      "metadata": {
        "id": "vrIFxRaxvk-m"
      },
      "source": [
        "def train(model, device, train_loader, optimizer, epoch):\n",
        "  '''\n",
        "  Train function takes in model, train_loader (data), optimizer and epoch and then trains the model\n",
        "  This is a single epoch train function, it is expected that it would be inside a loop\n",
        "    model - network\n",
        "    device - GPU or CPU\n",
        "    train_loader - custom train loader\n",
        "    optimizer - optimizer object\n",
        "    epoch - epoch number, in a loop typically executed\n",
        "  '''\n",
        "  model.train() # training mode on, enables gradient\n",
        "\n",
        "\n",
        "  for batch_idx,(images, numbers, labels, sums_label_number) in enumerate(train_loader):\n",
        "    optimizer.zero_grad() # setting gradients to zero, to remove accumulated gradients\n",
        "    images, numbers, labels, sums_label_number = images.to(device), numbers.to(device), labels.to(device), sums_label_number.to(device) # sending tensors to GPU\n",
        "\n",
        "    pred_labels, pred_sums_label_numbers= model(images,numbers) # Pass Batch, model takes two inputs and provides two outputs\n",
        "\n",
        "    loss_label = loss_func(pred_labels,labels) # image label related loss calculation\n",
        "    loss_sum = loss_func(pred_sums_label_numbers,sums_label_number) # sum of image label and random number loss calculation\n",
        "    loss = 0.5*(loss_label + loss_sum) # overall loss \n",
        "\n",
        "    loss.backward() # Calculate Gradients\n",
        "    optimizer.step() # Update Weights\n",
        "\n",
        "    # print for some batches\n",
        "    if (batch_idx % 100 == 0):\n",
        "      print (f'Inside Training epoch - {epoch}, processing step {(batch_idx+1)*len(images[0])} , Training loss: {loss.item()}')\n",
        "\n",
        "  # print for each epoch\n",
        "  print(\n",
        "    \"After completion of epoch\", epoch, \n",
        "    \"  Training loss:\", loss.item()\n",
        "    )"
      ],
      "execution_count": 10,
      "outputs": []
    },
    {
      "cell_type": "code",
      "metadata": {
        "id": "QHVYbt4fClk8"
      },
      "source": [
        "def test(model, device, test_loader):\n",
        "  '''\n",
        "  Test function takes in model, test_loader (data), and evaluates the model\n",
        "    model - network\n",
        "    device - GPU or CPU\n",
        "    test_loader - custom test data loader\n",
        "  '''\n",
        "\n",
        "  model.eval() # evaluation mode on, no updates to params\n",
        "  total_loss = 0\n",
        "  total_correct_label = 0\n",
        "  total_correct_sum = 0\n",
        "  with torch.no_grad():\n",
        "    for (images, numbers, labels, sums_label_number) in (test_loader):\n",
        "      images, numbers, labels, sums_label_number = images.to(device), numbers.to(device), labels.to(device), sums_label_number.to(device) # sending tensors to GPU\n",
        "      pred_labels, pred_sums_label_numbers= model(images,numbers) # Pass Batch, model takes two inputs and provides two outputs in one hot encoding\n",
        "\n",
        "      # predictions are in one hot encoding and ground truth are not\n",
        "      loss_label = loss_func(pred_labels,labels) # image label related loss calculation\n",
        "      loss_sum = loss_func(pred_sums_label_numbers,sums_label_number) # sum of image label and random number loss calculation\n",
        "      loss= 0.5*(loss_label + loss_sum) # overall loss \n",
        "\n",
        "      total_loss += loss.item() # aggregating loss\n",
        "\n",
        "      # converting predictions to numbers from one hot encoding and checking the correct label\n",
        "\n",
        "      total_correct_label +=  pred_labels.argmax(dim=1).eq(labels).sum().item() # checking correct label \n",
        "      total_correct_sum += pred_sums_label_numbers.argmax(dim=1).eq(sums_label_number).sum().item() # checking correct sum \n",
        "\n",
        "  # print for each epoch\n",
        "  print(\n",
        "    \"Testing...\\n\"\n",
        "    \"Test loss:\", total_loss,\n",
        "    \"total_correct_label:\", total_correct_label, \n",
        "    \"accuracy_labels:\", round(100.*total_correct_label/len(train_loader.dataset),3), \"% \",\n",
        "    \"total_correct_sum:\",total_correct_sum,\n",
        "    \"accuracy_correct_sum:\",  round(100.*total_correct_sum/len(train_loader.dataset),3),\"% \"\n",
        "    )"
      ],
      "execution_count": 11,
      "outputs": []
    },
    {
      "cell_type": "code",
      "metadata": {
        "colab": {
          "base_uri": "https://localhost:8080/"
        },
        "id": "zQLgG-gx8Fmv",
        "outputId": "dfe0ce6d-9e69-4de8-da21-8896e6b41a26"
      },
      "source": [
        "n_epochs = 5\n",
        "model = model.to(device)\n",
        "\n",
        "for epoch in range(1, n_epochs + 1):\n",
        "    train(model, device, train_loader, optimizer, epoch)\n",
        "    test(model,device,test_loader)"
      ],
      "execution_count": 12,
      "outputs": [
        {
          "output_type": "stream",
          "name": "stderr",
          "text": [
            "/usr/local/lib/python3.7/dist-packages/torch/nn/functional.py:718: UserWarning: Named tensors and all their associated APIs are an experimental feature and subject to change. Please do not use them for anything important until they are released as stable. (Triggered internally at  /pytorch/c10/core/TensorImpl.h:1156.)\n",
            "  return torch.max_pool2d(input, kernel_size, stride, padding, dilation, ceil_mode)\n"
          ]
        },
        {
          "output_type": "stream",
          "name": "stdout",
          "text": [
            "Inside Training epoch - 1, processing step 1 , Training loss: 2.624965190887451\n",
            "Inside Training epoch - 1, processing step 101 , Training loss: 1.5524474382400513\n",
            "Inside Training epoch - 1, processing step 201 , Training loss: 1.3173660039901733\n",
            "Inside Training epoch - 1, processing step 301 , Training loss: 1.3680286407470703\n",
            "Inside Training epoch - 1, processing step 401 , Training loss: 1.3590097427368164\n",
            "Inside Training epoch - 1, processing step 501 , Training loss: 1.3105884790420532\n",
            "Inside Training epoch - 1, processing step 601 , Training loss: 1.1552027463912964\n",
            "Inside Training epoch - 1, processing step 701 , Training loss: 1.0195976495742798\n",
            "Inside Training epoch - 1, processing step 801 , Training loss: 0.8428730368614197\n",
            "Inside Training epoch - 1, processing step 901 , Training loss: 1.017943024635315\n",
            "Inside Training epoch - 1, processing step 1001 , Training loss: 0.7416382431983948\n",
            "Inside Training epoch - 1, processing step 1101 , Training loss: 0.8804164528846741\n",
            "Inside Training epoch - 1, processing step 1201 , Training loss: 0.6962188482284546\n",
            "Inside Training epoch - 1, processing step 1301 , Training loss: 0.7088777422904968\n",
            "Inside Training epoch - 1, processing step 1401 , Training loss: 0.7663328051567078\n",
            "Inside Training epoch - 1, processing step 1501 , Training loss: 0.5645322799682617\n",
            "Inside Training epoch - 1, processing step 1601 , Training loss: 0.7751891016960144\n",
            "Inside Training epoch - 1, processing step 1701 , Training loss: 0.5923921465873718\n",
            "Inside Training epoch - 1, processing step 1801 , Training loss: 0.5955647230148315\n",
            "After completion of epoch 1   Training loss: 0.4649723470211029\n",
            "Testing...\n",
            "Test loss: 34.224786818027496 total_correct_label: 58709 accuracy_labels: 97.848 %  total_correct_sum: 37697 accuracy_correct_sum: 62.828 % \n",
            "Inside Training epoch - 2, processing step 1 , Training loss: 0.6980562806129456\n",
            "Inside Training epoch - 2, processing step 101 , Training loss: 0.5277413725852966\n",
            "Inside Training epoch - 2, processing step 201 , Training loss: 0.6687749624252319\n",
            "Inside Training epoch - 2, processing step 301 , Training loss: 0.48130449652671814\n",
            "Inside Training epoch - 2, processing step 401 , Training loss: 0.6910222172737122\n",
            "Inside Training epoch - 2, processing step 501 , Training loss: 0.4779708683490753\n",
            "Inside Training epoch - 2, processing step 601 , Training loss: 0.32508301734924316\n",
            "Inside Training epoch - 2, processing step 701 , Training loss: 0.3312344551086426\n",
            "Inside Training epoch - 2, processing step 801 , Training loss: 0.3467721939086914\n",
            "Inside Training epoch - 2, processing step 901 , Training loss: 0.31841588020324707\n",
            "Inside Training epoch - 2, processing step 1001 , Training loss: 0.31591957807540894\n",
            "Inside Training epoch - 2, processing step 1101 , Training loss: 0.21508267521858215\n",
            "Inside Training epoch - 2, processing step 1201 , Training loss: 0.24563418328762054\n",
            "Inside Training epoch - 2, processing step 1301 , Training loss: 0.2258073389530182\n",
            "Inside Training epoch - 2, processing step 1401 , Training loss: 0.16834910213947296\n",
            "Inside Training epoch - 2, processing step 1501 , Training loss: 0.17328931391239166\n",
            "Inside Training epoch - 2, processing step 1601 , Training loss: 0.12538151443004608\n",
            "Inside Training epoch - 2, processing step 1701 , Training loss: 0.2292908877134323\n",
            "Inside Training epoch - 2, processing step 1801 , Training loss: 0.09654966741800308\n",
            "After completion of epoch 2   Training loss: 0.2918633222579956\n",
            "Testing...\n",
            "Test loss: 9.194906830787659 total_correct_label: 59380 accuracy_labels: 98.967 %  total_correct_sum: 56513 accuracy_correct_sum: 94.188 % \n",
            "Inside Training epoch - 3, processing step 1 , Training loss: 0.12762686610221863\n",
            "Inside Training epoch - 3, processing step 101 , Training loss: 0.10305148363113403\n",
            "Inside Training epoch - 3, processing step 201 , Training loss: 0.14711524546146393\n",
            "Inside Training epoch - 3, processing step 301 , Training loss: 0.09740000218153\n",
            "Inside Training epoch - 3, processing step 401 , Training loss: 0.10140310227870941\n",
            "Inside Training epoch - 3, processing step 501 , Training loss: 0.09289577603340149\n",
            "Inside Training epoch - 3, processing step 601 , Training loss: 0.14640630781650543\n",
            "Inside Training epoch - 3, processing step 701 , Training loss: 0.2274782955646515\n",
            "Inside Training epoch - 3, processing step 801 , Training loss: 0.09292244911193848\n",
            "Inside Training epoch - 3, processing step 901 , Training loss: 0.19206874072551727\n",
            "Inside Training epoch - 3, processing step 1001 , Training loss: 0.10848770290613174\n",
            "Inside Training epoch - 3, processing step 1101 , Training loss: 0.1152523010969162\n",
            "Inside Training epoch - 3, processing step 1201 , Training loss: 0.06605026870965958\n",
            "Inside Training epoch - 3, processing step 1301 , Training loss: 0.210120290517807\n",
            "Inside Training epoch - 3, processing step 1401 , Training loss: 0.10136492550373077\n",
            "Inside Training epoch - 3, processing step 1501 , Training loss: 0.049529269337654114\n",
            "Inside Training epoch - 3, processing step 1601 , Training loss: 0.06311727315187454\n",
            "Inside Training epoch - 3, processing step 1701 , Training loss: 0.03602913022041321\n",
            "Inside Training epoch - 3, processing step 1801 , Training loss: 0.040418513119220734\n",
            "After completion of epoch 3   Training loss: 0.059926837682724\n",
            "Testing...\n",
            "Test loss: 4.166031699627638 total_correct_label: 59368 accuracy_labels: 98.947 %  total_correct_sum: 58391 accuracy_correct_sum: 97.318 % \n",
            "Inside Training epoch - 4, processing step 1 , Training loss: 0.010932114906609058\n",
            "Inside Training epoch - 4, processing step 101 , Training loss: 0.07315535098314285\n",
            "Inside Training epoch - 4, processing step 201 , Training loss: 0.07115308195352554\n",
            "Inside Training epoch - 4, processing step 301 , Training loss: 0.08471839874982834\n",
            "Inside Training epoch - 4, processing step 401 , Training loss: 0.055984050035476685\n",
            "Inside Training epoch - 4, processing step 501 , Training loss: 0.09640858322381973\n",
            "Inside Training epoch - 4, processing step 601 , Training loss: 0.1031607985496521\n",
            "Inside Training epoch - 4, processing step 701 , Training loss: 0.046887487173080444\n",
            "Inside Training epoch - 4, processing step 801 , Training loss: 0.08022989332675934\n",
            "Inside Training epoch - 4, processing step 901 , Training loss: 0.04947701096534729\n",
            "Inside Training epoch - 4, processing step 1001 , Training loss: 0.0659756287932396\n",
            "Inside Training epoch - 4, processing step 1101 , Training loss: 0.016828227788209915\n",
            "Inside Training epoch - 4, processing step 1201 , Training loss: 0.036494579166173935\n",
            "Inside Training epoch - 4, processing step 1301 , Training loss: 0.22718682885169983\n",
            "Inside Training epoch - 4, processing step 1401 , Training loss: 0.06097990274429321\n",
            "Inside Training epoch - 4, processing step 1501 , Training loss: 0.020312706008553505\n",
            "Inside Training epoch - 4, processing step 1601 , Training loss: 0.01217422354966402\n",
            "Inside Training epoch - 4, processing step 1701 , Training loss: 0.017644397914409637\n",
            "Inside Training epoch - 4, processing step 1801 , Training loss: 0.05357593297958374\n",
            "After completion of epoch 4   Training loss: 0.06129102408885956\n",
            "Testing...\n",
            "Test loss: 2.3967976197600365 total_correct_label: 59704 accuracy_labels: 99.507 %  total_correct_sum: 59007 accuracy_correct_sum: 98.345 % \n",
            "Inside Training epoch - 5, processing step 1 , Training loss: 0.011168701574206352\n",
            "Inside Training epoch - 5, processing step 101 , Training loss: 0.17612813413143158\n",
            "Inside Training epoch - 5, processing step 201 , Training loss: 0.019922327250242233\n",
            "Inside Training epoch - 5, processing step 301 , Training loss: 0.03903061896562576\n",
            "Inside Training epoch - 5, processing step 401 , Training loss: 0.011948728933930397\n",
            "Inside Training epoch - 5, processing step 501 , Training loss: 0.24999317526817322\n",
            "Inside Training epoch - 5, processing step 601 , Training loss: 0.10705820471048355\n",
            "Inside Training epoch - 5, processing step 701 , Training loss: 0.010716604068875313\n",
            "Inside Training epoch - 5, processing step 801 , Training loss: 0.16216710209846497\n",
            "Inside Training epoch - 5, processing step 901 , Training loss: 0.1097106784582138\n",
            "Inside Training epoch - 5, processing step 1001 , Training loss: 0.003252038499340415\n",
            "Inside Training epoch - 5, processing step 1101 , Training loss: 0.08921292424201965\n",
            "Inside Training epoch - 5, processing step 1201 , Training loss: 0.02161097154021263\n",
            "Inside Training epoch - 5, processing step 1301 , Training loss: 0.00786795187741518\n",
            "Inside Training epoch - 5, processing step 1401 , Training loss: 0.0059389593079686165\n",
            "Inside Training epoch - 5, processing step 1501 , Training loss: 0.1434599608182907\n",
            "Inside Training epoch - 5, processing step 1601 , Training loss: 0.08462370932102203\n",
            "Inside Training epoch - 5, processing step 1701 , Training loss: 0.011160134337842464\n",
            "Inside Training epoch - 5, processing step 1801 , Training loss: 0.015973970293998718\n",
            "After completion of epoch 5   Training loss: 0.012244242243468761\n",
            "Testing...\n",
            "Test loss: 1.9272407814860344 total_correct_label: 59767 accuracy_labels: 99.612 %  total_correct_sum: 59142 accuracy_correct_sum: 98.57 % \n"
          ]
        }
      ]
    },
    {
      "cell_type": "markdown",
      "metadata": {
        "id": "KAnto4LUGZBt"
      },
      "source": [
        "### Sample Prediction"
      ]
    },
    {
      "cell_type": "code",
      "metadata": {
        "id": "3E3GPBbyEvFd"
      },
      "source": [
        "def sample_results(model, device, test_loader, num_samples = 1):\n",
        "  for i in range(num_samples):\n",
        "    images, numbers, labels, sums_label_number = next(iter(test_loader))\n",
        "    images, numbers, labels, sums_label_number = images.to(device), numbers.to(device), labels.to(device), sums_label_number.to(device) # sending tensors to GPU\n",
        "    output, output_sum = model(images[i].unsqueeze(dim=0), numbers[i].unsqueeze(dim=0))\n",
        "    print(f\"Image Predicted:{torch.argmax(output.squeeze()).item()}, Image Actual:{labels[i].item()},Random Input Number:{numbers[i].item()},Sum Precicted:{torch.argmax(output_sum.squeeze()).item()}, Sum Actual:{sums_label_number[i]}\")"
      ],
      "execution_count": 13,
      "outputs": []
    },
    {
      "cell_type": "code",
      "metadata": {
        "colab": {
          "base_uri": "https://localhost:8080/"
        },
        "id": "TfM4YX1OF8P4",
        "outputId": "00ca6675-3823-41fc-b51f-5b8ba44c0aec"
      },
      "source": [
        "sample_results(model, device, test_loader, num_samples = 1)"
      ],
      "execution_count": 14,
      "outputs": [
        {
          "output_type": "stream",
          "name": "stdout",
          "text": [
            "Image Predicted:4, Image Actual:4,Random Input Number:1,Sum Precicted:5, Sum Actual:5\n"
          ]
        }
      ]
    },
    {
      "cell_type": "code",
      "metadata": {
        "id": "leGmC-1dF8Li"
      },
      "source": [
        ""
      ],
      "execution_count": 14,
      "outputs": []
    }
  ]
}